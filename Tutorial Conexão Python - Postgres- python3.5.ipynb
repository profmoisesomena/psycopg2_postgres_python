{
 "cells": [
  {
   "cell_type": "markdown",
   "metadata": {},
   "source": [
    "# Usando Python 3 para conectar no banco de dados Postgres\n",
    "   >## <i> <br> By: Omena M.S. ; <i> Disciplina de Banco de Dados "
   ]
  },
  {
   "cell_type": "markdown",
   "metadata": {},
   "source": [
    "# Configuração inicial:"
   ]
  },
  {
   "cell_type": "markdown",
   "metadata": {},
   "source": [
    "### Para realizar a conexão com o banco de dados postgres precisamos instalar o  Psycopg2"
   ]
  },
  {
   "cell_type": "markdown",
   "metadata": {},
   "source": [
    "O psycopg2 é um adaptador que possibilitará o acesso a bancos de dados postgres por meio da linguagem python. Para realizar a instalação do psycopg2 execute os seguintes procedimentos."
   ]
  },
  {
   "cell_type": "markdown",
   "metadata": {},
   "source": [
    "a) Instalação do psycopg2"
   ]
  },
  {
   "cell_type": "code",
   "execution_count": 1,
   "metadata": {},
   "outputs": [
    {
     "name": "stdout",
     "output_type": "stream",
     "text": [
      "Requirement already satisfied: psycopg2-binary in ./env35/lib/python3.5/site-packages (2.7.5)\r\n"
     ]
    }
   ],
   "source": [
    "!pip install psycopg2-binary"
   ]
  },
  {
   "cell_type": "markdown",
   "metadata": {},
   "source": [
    "### Agora precisamos importar a o pacote para podermos utilizá-lo"
   ]
  },
  {
   "cell_type": "markdown",
   "metadata": {},
   "source": [
    "b) para importar a biblioteca psycopg2 execute os seguintes procedimentos"
   ]
  },
  {
   "cell_type": "code",
   "execution_count": 2,
   "metadata": {},
   "outputs": [],
   "source": [
    "import psycopg2"
   ]
  },
  {
   "cell_type": "markdown",
   "metadata": {},
   "source": [
    "#### Portanto, agora podemos utilizar o pacote psycopg2 para acessar o banco de dados por meio da linguagem python"
   ]
  },
  {
   "cell_type": "markdown",
   "metadata": {},
   "source": [
    "# Conectando a base de dados"
   ]
  },
  {
   "cell_type": "markdown",
   "metadata": {},
   "source": [
    "### Inicialmente utilizaremos a funcao connect da biblioteca psycopg2 para conectar no banco de dados desejado."
   ]
  },
  {
   "cell_type": "markdown",
   "metadata": {},
   "source": [
    "#### Observe a lista de parametros disponíveis para conexão."
   ]
  },
  {
   "cell_type": "markdown",
   "metadata": {},
   "source": [
    "database:  é o nome do banco de dados no qual desejamos conectar<br>\n",
    "user:  usuario usado para autenticação<br>\n",
    "password:  senha usada para autenticação<br>\n",
    "host:  servidor de banco de dados (para bases de dados locais podemos utilizar:  localhost)<br>\n",
    "port:  o número da porta de conexão que por padrão é 5432 caso não seja informada<br>"
   ]
  },
  {
   "cell_type": "markdown",
   "metadata": {},
   "source": [
    "### Formas de conexão"
   ]
  },
  {
   "cell_type": "markdown",
   "metadata": {},
   "source": [
    "c) observe que passaremos como parametros para a função connect o nome do banco de dados, o usuário e a senha de acesso"
   ]
  },
  {
   "cell_type": "code",
   "execution_count": 3,
   "metadata": {},
   "outputs": [],
   "source": [
    "conn = psycopg2.connect(\"dbname=atividade_integrado user=postgres password=123456\")"
   ]
  },
  {
   "cell_type": "markdown",
   "metadata": {},
   "source": [
    "Também podemos especificar os parametros separados por vírgula como no exemplo abaixo"
   ]
  },
  {
   "cell_type": "code",
   "execution_count": 4,
   "metadata": {},
   "outputs": [],
   "source": [
    "conn = psycopg2.connect(host=\"localhost\",port=\"5432\",database=\"atividade_integrado\", user=\"postgres\", password=\"123456\")"
   ]
  },
  {
   "cell_type": "markdown",
   "metadata": {},
   "source": [
    "Se a conexão for criada com sucesso retornará um objeto de conexão. Abaixo podemos observar o conteúdo do objeto criado."
   ]
  },
  {
   "cell_type": "code",
   "execution_count": 5,
   "metadata": {},
   "outputs": [
    {
     "name": "stdout",
     "output_type": "stream",
     "text": [
      "<connection object at 0x7fb2072dec28; dsn: 'port=5432 dbname=atividade_integrado host=localhost password=xxx user=postgres', closed: 0>\n"
     ]
    }
   ],
   "source": [
    "print(conn)"
   ]
  },
  {
   "cell_type": "markdown",
   "metadata": {},
   "source": [
    "Agora precisamos criar um cursor por meio do método cursor() do objeto conecção. O cursor será utilizado para executar instruções SQL no banco de dados desejado."
   ]
  },
  {
   "cell_type": "code",
   "execution_count": 6,
   "metadata": {},
   "outputs": [],
   "source": [
    "cur = conn.cursor()"
   ]
  },
  {
   "cell_type": "markdown",
   "metadata": {},
   "source": [
    "Se desejarmos, podemos verificar o status do cursor por meio de 'statusmessage'"
   ]
  },
  {
   "cell_type": "code",
   "execution_count": 7,
   "metadata": {},
   "outputs": [
    {
     "name": "stdout",
     "output_type": "stream",
     "text": [
      "None\n"
     ]
    }
   ],
   "source": [
    "print(cur.statusmessage)"
   ]
  },
  {
   "cell_type": "markdown",
   "metadata": {},
   "source": [
    "#### Uma vez criado nosso cursor, podemos emitir instruções sql para nosso banco de daddos. <br>"
   ]
  },
  {
   "cell_type": "markdown",
   "metadata": {},
   "source": [
    "# Criando tabelas, inserindo e manipulando informações"
   ]
  },
  {
   "cell_type": "markdown",
   "metadata": {},
   "source": [
    "Antes de tudo, precisamos iniciar uma transação no banco de dados. A transação garantirá que ao final do processo as alterações possam ser confirmadas ou desfeitas."
   ]
  },
  {
   "cell_type": "code",
   "execution_count": 8,
   "metadata": {},
   "outputs": [],
   "source": [
    "cur.execute('start transaction')"
   ]
  },
  {
   "cell_type": "markdown",
   "metadata": {},
   "source": [
    "a) Agora que iniciamos a transação, vamos inciar criando nossa tabela. (Observe que para manter a integridade do tutorial estamos eliminando qualquer tabela denominada aluno existente previamente)"
   ]
  },
  {
   "cell_type": "code",
   "execution_count": 9,
   "metadata": {},
   "outputs": [],
   "source": [
    "cur.execute(\"drop table if exists aluno\") ## caso a tabela exista ela será eliminada para evitar inconsistências\n",
    "cur.execute(\"create table aluno (matricula int primary key, nome varchar(100) not null)\")"
   ]
  },
  {
   "cell_type": "markdown",
   "metadata": {},
   "source": [
    "b) Agora vamos inserir dados em nossa tabela aluno!"
   ]
  },
  {
   "cell_type": "code",
   "execution_count": 10,
   "metadata": {},
   "outputs": [],
   "source": [
    "cur.execute(\"insert into aluno (matricula,nome) values (%s,%s)\",(1,'Pedro'))\n",
    "cur.execute(\"insert into aluno (matricula,nome) values (%s,%s)\",(2,'Maria'))\n",
    "cur.execute(\"insert into aluno (matricula,nome) values (%s,%s)\",(3,'Ana'))"
   ]
  },
  {
   "cell_type": "markdown",
   "metadata": {},
   "source": [
    "c) Uma vez que os dados foram inseridos, vamos consultar nossa tabela para verificar se os dados foram inseridos corretamente. Sendo assim, vamos executar a instrução select do sql para obter os registros/linhas que estão na tabela aluno. As informações serão armazenadas no proprio cursor."
   ]
  },
  {
   "cell_type": "code",
   "execution_count": 11,
   "metadata": {},
   "outputs": [],
   "source": [
    "cur.execute(\"select * from aluno\");"
   ]
  },
  {
   "cell_type": "markdown",
   "metadata": {},
   "source": [
    "obtem uma das linhas armazenadas no cursor (busca uma única linha por vez)"
   ]
  },
  {
   "cell_type": "code",
   "execution_count": 12,
   "metadata": {},
   "outputs": [
    {
     "data": {
      "text/plain": [
       "(1, 'Pedro')"
      ]
     },
     "execution_count": 12,
     "metadata": {},
     "output_type": "execute_result"
    }
   ],
   "source": [
    "cur.fetchone()"
   ]
  },
  {
   "cell_type": "markdown",
   "metadata": {},
   "source": [
    "obtem todas as linhas disponíveis no cursor (busca todas as linhas restantes)"
   ]
  },
  {
   "cell_type": "code",
   "execution_count": 13,
   "metadata": {},
   "outputs": [
    {
     "name": "stdout",
     "output_type": "stream",
     "text": [
      "(2, 'Maria')\n",
      "(3, 'Ana')\n"
     ]
    }
   ],
   "source": [
    "for i in cur.fetchall():\n",
    "    print(i)"
   ]
  },
  {
   "cell_type": "markdown",
   "metadata": {},
   "source": [
    "Agora vamos apagar todas as linhas da tabela aluno que possuem matricula maior que 1"
   ]
  },
  {
   "cell_type": "code",
   "execution_count": 14,
   "metadata": {},
   "outputs": [],
   "source": [
    "cur.execute(\"delete from aluno where matricula>1\");"
   ]
  },
  {
   "cell_type": "markdown",
   "metadata": {},
   "source": [
    "Para visualizar as modificações, vamos buscar todas as linhas restantes na tabela aluno. Observe que as linhas onde os valores de matricula são maiores que '1' foram excluídas."
   ]
  },
  {
   "cell_type": "code",
   "execution_count": 15,
   "metadata": {},
   "outputs": [],
   "source": [
    "cur.execute(\"select * from aluno\");"
   ]
  },
  {
   "cell_type": "code",
   "execution_count": 16,
   "metadata": {},
   "outputs": [
    {
     "name": "stdout",
     "output_type": "stream",
     "text": [
      "(1, 'Pedro')\n"
     ]
    }
   ],
   "source": [
    "for i in cur.fetchall():\n",
    "    print(i)"
   ]
  },
  {
   "cell_type": "markdown",
   "metadata": {},
   "source": [
    "### Confirmando ou desfazendo as alterações"
   ]
  },
  {
   "cell_type": "markdown",
   "metadata": {},
   "source": [
    "Para confirmar todas as alterações podemos aplicar a instrução Commit"
   ]
  },
  {
   "cell_type": "code",
   "execution_count": 17,
   "metadata": {},
   "outputs": [],
   "source": [
    "cur.execute(\"commit\")"
   ]
  },
  {
   "cell_type": "markdown",
   "metadata": {},
   "source": [
    "Caso seja necessário **desfazer todas as atividades executadas anteriormente** poderíamos ter executado ao invês do commit,  a instrução **rollback**. como exemplo teríamos: **cur.execute(\"rollback\")**"
   ]
  },
  {
   "cell_type": "markdown",
   "metadata": {},
   "source": [
    "### Para concluir podemos fechar o cursor e finalizar a conexão."
   ]
  },
  {
   "cell_type": "code",
   "execution_count": 18,
   "metadata": {},
   "outputs": [],
   "source": [
    "cur.close()"
   ]
  },
  {
   "cell_type": "markdown",
   "metadata": {},
   "source": [
    "O Psycopg2 também fornece como forma alternativa de fechamento da conexão juntamente com commit da instruções SQL (ou seja uma operação de multiplas ações), o método de conexão commit(). Observe a próxima instrução:"
   ]
  },
  {
   "cell_type": "code",
   "execution_count": 19,
   "metadata": {},
   "outputs": [],
   "source": [
    "conn.commit()"
   ]
  },
  {
   "cell_type": "markdown",
   "metadata": {},
   "source": [
    " Da mesma semelhante o Psycopg2 também fornece a possibilidade de fechamento da conexão juntamente com rollback por meio do método rollback(). Um exemplo seria aplicação de **conn.rollback()**"
   ]
  },
  {
   "cell_type": "markdown",
   "metadata": {},
   "source": [
    "# Captura de erros"
   ]
  },
  {
   "cell_type": "markdown",
   "metadata": {},
   "source": [
    "Também é possível verificar a existencia de erros durante a execução e tomar ações com base nestes erros. veja o exemplo abaixo. Observe que neste caso ocorrerão erros pois o cursor já foi finalizado e portanto, para que o procedimento ocorresse de forma correta precisariamos criar um novo cursor."
   ]
  },
  {
   "cell_type": "code",
   "execution_count": 20,
   "metadata": {},
   "outputs": [
    {
     "name": "stdout",
     "output_type": "stream",
     "text": [
      "OCORRERAM PROBLEMAS!\n",
      "Mensagem padrao de erro foi:  cursor already closed\n",
      "foi aplicado rollback, mas tentativa de aplicação falhou\n",
      "Mensagem padrao de erro foi:  cursor already closed\n"
     ]
    }
   ],
   "source": [
    "try:\n",
    "    cur.execute(\"SELECT * FROM aluno\")\n",
    "except Exception as e:\n",
    "    print(\"OCORRERAM PROBLEMAS!\")\n",
    "    print(\"Mensagem padrao de erro foi: \",e)\n",
    "    try:\n",
    "        cur.execute(\"Rollback\")\n",
    "        print(\"foi aplicado rollback\")\n",
    "    except Exception as e2:\n",
    "        print(\"foi aplicado rollback, mas tentativa de aplicação falhou\")\n",
    "        print(\"Mensagem padrao de erro foi: \",e2)\n"
   ]
  },
  {
   "cell_type": "markdown",
   "metadata": {},
   "source": [
    "# Referências"
   ]
  },
  {
   "cell_type": "markdown",
   "metadata": {},
   "source": [
    "http://initd.org/psycopg/docs/usage.html"
   ]
  },
  {
   "cell_type": "markdown",
   "metadata": {},
   "source": [
    "http://initd.org/psycopg/docs/install.html"
   ]
  },
  {
   "cell_type": "markdown",
   "metadata": {},
   "source": [
    "http://www.postgresqltutorial.com/postgresql-python/connect/"
   ]
  },
  {
   "cell_type": "markdown",
   "metadata": {},
   "source": [
    "http://www.postgresqltutorial.com/postgresql-python/query/"
   ]
  },
  {
   "cell_type": "markdown",
   "metadata": {},
   "source": [
    "https://www.fullstackpython.com/blog/postgresql-python-3-psycopg2-ubuntu-1604.html"
   ]
  }
 ],
 "metadata": {
  "kernelspec": {
   "display_name": "Python 3",
   "language": "python",
   "name": "python3"
  },
  "language_info": {
   "codemirror_mode": {
    "name": "ipython",
    "version": 3
   },
   "file_extension": ".py",
   "mimetype": "text/x-python",
   "name": "python",
   "nbconvert_exporter": "python",
   "pygments_lexer": "ipython3",
   "version": "3.5.2"
  }
 },
 "nbformat": 4,
 "nbformat_minor": 2
}
